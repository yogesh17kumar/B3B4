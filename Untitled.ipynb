{
 "cells": [
  {
   "cell_type": "markdown",
   "id": "5597a504-b52a-441e-a8af-0d0458a11efe",
   "metadata": {},
   "source": [
    "# Functions\n",
    "``` python \n",
    " def functionName(inputArguments, Arg2):\n",
    "    function statements\n",
    "    function statements2\n",
    "    function statements3\n",
    "\n",
    "    return(var1, var2)\n",
    "\n",
    "\n",
    "  functionName(a,b)\n",
    "\n",
    "main program\n",
    "```\n",
    "    "
   ]
  },
  {
   "cell_type": "code",
   "execution_count": null,
   "id": "671743b0-10e0-412d-ade0-8ccef64ad47c",
   "metadata": {},
   "outputs": [],
   "source": [
    "# WAF to add two values and returns its result"
   ]
  },
  {
   "cell_type": "code",
   "execution_count": 1,
   "id": "72e5f51f-a6ec-4f70-82ca-7a675c210098",
   "metadata": {},
   "outputs": [
    {
     "name": "stdout",
     "output_type": "stream",
     "text": [
      "8\n"
     ]
    }
   ],
   "source": [
    "def add(a, b):\n",
    "\n",
    "    return a + b\n",
    "result = add(5, 3)\n",
    "print(result)\n"
   ]
  },
  {
   "cell_type": "code",
   "execution_count": 6,
   "id": "9c656622-db4d-45e6-9e5f-f292b7b0bbe1",
   "metadata": {},
   "outputs": [
    {
     "name": "stdout",
     "output_type": "stream",
     "text": [
      "()\n",
      "result is 3\n",
      "(1, 2)\n",
      "result is 6\n"
     ]
    }
   ],
   "source": [
    "var1 = 1\n",
    "var2 = 2\n",
    "\n",
    "# defining function\n",
    "#*args\n",
    "#def myadd(a,b,c = 0,d = 0,e = 0):\n",
    "def myadd(a,b, *args):\n",
    "    print(args)\n",
    "    res = a+b\n",
    "    for a in args:\n",
    "        res = res + a \n",
    "    return res\n",
    "\n",
    "#using function\n",
    "result = myadd(var1, var2)\n",
    "print(f\"result is { result }\")\n",
    "\n",
    "result = myadd(var1, var2, 1, 2, )\n",
    "print(f\"result is { result }\")"
   ]
  },
  {
   "cell_type": "code",
   "execution_count": 8,
   "id": "70e1cfba-6f43-4f32-b67b-1add008dff6f",
   "metadata": {},
   "outputs": [
    {
     "name": "stdout",
     "output_type": "stream",
     "text": [
      "Hi Yogesh How are you\n"
     ]
    }
   ],
   "source": [
    "def greet(name, message):\n",
    "    print(f\"Hi {name} {message}\")\n",
    "\n",
    "name =\"Yogesh\"\n",
    "message = \"How are you\"\n",
    "greet(name, message)"
   ]
  },
  {
   "cell_type": "code",
   "execution_count": 9,
   "id": "96f48d65-8d31-4ea2-8fff-db925dadce23",
   "metadata": {},
   "outputs": [
    {
     "name": "stdout",
     "output_type": "stream",
     "text": [
      "{'name': 'Yogesh', 'message': 'How are you'}\n"
     ]
    }
   ],
   "source": [
    "def greet(**kwargs):\n",
    "    #print(f\"Hi {name} {message}\")\n",
    "    print(kwargs)\n",
    "\n",
    "#name =\"Yogesh\"\n",
    "#message = \"How are you\"\n",
    "greet(name = \"Yogesh\", message = \"How are you\")"
   ]
  }
 ],
 "metadata": {
  "kernelspec": {
   "display_name": "Python 3 (ipykernel)",
   "language": "python",
   "name": "python3"
  },
  "language_info": {
   "codemirror_mode": {
    "name": "ipython",
    "version": 3
   },
   "file_extension": ".py",
   "mimetype": "text/x-python",
   "name": "python",
   "nbconvert_exporter": "python",
   "pygments_lexer": "ipython3",
   "version": "3.12.5"
  }
 },
 "nbformat": 4,
 "nbformat_minor": 5
}
