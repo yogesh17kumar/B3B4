{
 "cells": [
  {
   "cell_type": "markdown",
   "id": "f4a70b3b-49d9-44c3-a60a-7fb6cff1a6b2",
   "metadata": {},
   "source": [
    "# Class Assignment\n"
   ]
  },
  {
   "cell_type": "markdown",
   "id": "6fb5a822-2346-4058-bedf-4a96d1dfa7d2",
   "metadata": {},
   "source": [
    "### Ques1 : WAF that takes an input from the users and return data entered by the user as a list. Your function should ensures that the values given by user are integer. You can ask user how many values are entered."
   ]
  },
  {
   "cell_type": "code",
   "execution_count": 11,
   "id": "da1e6c86-073b-4c13-ba4d-786507c1291f",
   "metadata": {},
   "outputs": [
    {
     "name": "stdin",
     "output_type": "stream",
     "text": [
      "How many integer values would you like to enter?  4\n",
      "Enter integer value 1:  7\n",
      "Enter integer value 2:  abc\n"
     ]
    },
    {
     "name": "stdout",
     "output_type": "stream",
     "text": [
      "Invalid input. Please enter an integer.\n"
     ]
    },
    {
     "name": "stdin",
     "output_type": "stream",
     "text": [
      "Enter integer value 2:  8\n",
      "Enter integer value 3:  9.6\n"
     ]
    },
    {
     "name": "stdout",
     "output_type": "stream",
     "text": [
      "Invalid input. Please enter an integer.\n"
     ]
    },
    {
     "name": "stdin",
     "output_type": "stream",
     "text": [
      "Enter integer value 3:  9\n",
      "Enter integer value 4:  6\n"
     ]
    },
    {
     "name": "stdout",
     "output_type": "stream",
     "text": [
      "You entered: [7, 8, 9, 6]\n"
     ]
    }
   ],
   "source": [
    "def get_integer_list():\n",
    "    \"\"\"\n",
    "    Prompts the user to input a number of integers, and returns these integers in a list.\n",
    "    Ensures that the user input is valid.\n",
    "    \"\"\"\n",
    "    while True:\n",
    "        try:\n",
    "            # Ask how many integer values the user wants to enter\n",
    "            num_values = int(input(\"How many integer values would you like to enter? \"))\n",
    "            if num_values <= 0:\n",
    "                print(\"Please enter a positive integer.\")\n",
    "            else:\n",
    "                break\n",
    "        except ValueError:\n",
    "            print(\"Invalid input. Please enter an integer.\")\n",
    "\n",
    "    integer_list = []\n",
    "\n",
    "    # Collect the specified number of integers\n",
    "    while len(integer_list) < num_values:\n",
    "        try:\n",
    "            value = int(input(f\"Enter integer value {len(integer_list) + 1}: \"))\n",
    "            integer_list.append(value)\n",
    "        except ValueError:\n",
    "            print(\"Invalid input. Please enter an integer.\")\n",
    "\n",
    "    return integer_list\n",
    "\n",
    "if __name__ == \"__main__\":\n",
    "    values = get_integer_list()\n",
    "    print(\"You entered:\", values)\n"
   ]
  },
  {
   "cell_type": "markdown",
   "id": "3555e972-ccd1-4291-b21a-cadb35bb8267",
   "metadata": {},
   "source": [
    "### Ques2 : WAF that takes one input arguments. The input arguments should be a list of numbers. This function computes some Avg, Max, Min, and cumulative sum and return those values. Now use both of these function first to take input from user and second to compute Avg, Max, Min and cumulative sum."
   ]
  },
  {
   "cell_type": "code",
   "execution_count": 12,
   "id": "d62eedc2-9938-4758-b1c4-bb6d7a662ee6",
   "metadata": {},
   "outputs": [
    {
     "name": "stdin",
     "output_type": "stream",
     "text": [
      "Enter a list of numbers separated by spaces:  10 20 30 40\n"
     ]
    },
    {
     "name": "stdout",
     "output_type": "stream",
     "text": [
      "Average: 25.00\n",
      "Minimum: 10\n",
      "Maximum: 40\n",
      "Cumulative Sum: 100\n"
     ]
    }
   ],
   "source": [
    "def get_numbers():\n",
    "    \"\"\"\n",
    "    Asks the user for a list of numbers and returns the input as a list.\n",
    "    \"\"\"\n",
    "    numbers = input(\"Enter a list of numbers separated by spaces: \")\n",
    "    return [int(num) for num in numbers.split()]\n",
    "\n",
    "def compute_stats(numbers):\n",
    "    \"\"\"\n",
    "    Computes and returns the average, minimum, maximum, and cumulative sum of a list of numbers.\n",
    "    \"\"\"\n",
    "    avg = sum(numbers) / len(numbers)\n",
    "    min_val = min(numbers)\n",
    "    max_val = max(numbers)\n",
    "    cum_sum = sum(numbers)\n",
    "    return avg, min_val, max_val, cum_sum\n",
    "\n",
    "# Get the user input\n",
    "numbers = get_numbers()\n",
    "\n",
    "# Compute the stats\n",
    "avg, min_val, max_val, cum_sum = compute_stats(numbers)\n",
    "\n",
    "# Print the results\n",
    "print(f\"Average: {avg:.2f}\")\n",
    "print(f\"Minimum: {min_val}\")\n",
    "print(f\"Maximum: {max_val}\")\n",
    "print(f\"Cumulative Sum: {cum_sum}\")"
   ]
  },
  {
   "cell_type": "code",
   "execution_count": null,
   "id": "48c8333f-3b41-4940-a6fa-99e86f91fa4d",
   "metadata": {},
   "outputs": [],
   "source": []
  }
 ],
 "metadata": {
  "kernelspec": {
   "display_name": "Python 3 (ipykernel)",
   "language": "python",
   "name": "python3"
  },
  "language_info": {
   "codemirror_mode": {
    "name": "ipython",
    "version": 3
   },
   "file_extension": ".py",
   "mimetype": "text/x-python",
   "name": "python",
   "nbconvert_exporter": "python",
   "pygments_lexer": "ipython3",
   "version": "3.12.5"
  }
 },
 "nbformat": 4,
 "nbformat_minor": 5
}
