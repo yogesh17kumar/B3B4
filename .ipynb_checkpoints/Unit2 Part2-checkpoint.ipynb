{
 "cells": [
  {
   "cell_type": "markdown",
   "id": "a35157c7-86fe-4310-af00-a36dccd398dc",
   "metadata": {},
   "source": []
  },
  {
   "cell_type": "code",
   "execution_count": 5,
   "id": "50f5f35c-9e07-41e4-afc5-bf555f9845f2",
   "metadata": {},
   "outputs": [],
   "source": [
    "#WAF to multiply three numbers and return its results"
   ]
  },
  {
   "cell_type": "code",
   "execution_count": 8,
   "id": "a3a0cfe4-5539-4dac-b124-93995dc38b4f",
   "metadata": {},
   "outputs": [
    {
     "name": "stdout",
     "output_type": "stream",
     "text": [
      "120\n"
     ]
    }
   ],
   "source": [
    "# Lambda function to multiply three numbers\n",
    "mul = lambda a, b, c: a * b *c\n",
    "print(mul(4,5,6)) # Using a lambda function with map"
   ]
  },
  {
   "cell_type": "code",
   "execution_count": 11,
   "id": "34ae5f0d-fb9a-4354-a4d6-0d52404ae769",
   "metadata": {},
   "outputs": [
    {
     "name": "stdout",
     "output_type": "stream",
     "text": [
      "[1, 4, 9, 16, 25]\n"
     ]
    }
   ],
   "source": [
    "numbers = [1,2,3,4,5]\n",
    "squared = map(lambda x : x * x, numbers)\n",
    "print(list(squared))"
   ]
  },
  {
   "cell_type": "code",
   "execution_count": 12,
   "id": "30630970-25af-4e08-a8f5-177a0bd64df3",
   "metadata": {},
   "outputs": [
    {
     "name": "stdout",
     "output_type": "stream",
     "text": [
      "[2, 4]\n"
     ]
    }
   ],
   "source": [
    "even_numbers = filter(lambda x : x % 2 == 0, numbers)\n",
    "print(list(even_numbers))"
   ]
  },
  {
   "cell_type": "code",
   "execution_count": 14,
   "id": "bd69daf4-9ab4-46b0-9dc9-e8b34caab0bd",
   "metadata": {},
   "outputs": [],
   "source": [
    "squares = []\n",
    "for i in range(10):\n",
    "    if i % 2 == 0:\n",
    "        squares.append(i ** 2)"
   ]
  },
  {
   "cell_type": "code",
   "execution_count": 15,
   "id": "d4361dd5-8cb0-42e1-ae2e-1ae3e273c61f",
   "metadata": {},
   "outputs": [
    {
     "name": "stdout",
     "output_type": "stream",
     "text": [
      "[0, 4, 16, 36, 64]\n"
     ]
    }
   ],
   "source": [
    "print(squares)"
   ]
  },
  {
   "cell_type": "code",
   "execution_count": 16,
   "id": "2fd8b45e-3431-41ea-a04f-37be64bf67b1",
   "metadata": {},
   "outputs": [],
   "source": [
    "square = [i ** 2 for i in range(10) if i % 2 == 0]"
   ]
  },
  {
   "cell_type": "code",
   "execution_count": 17,
   "id": "80848259-46b3-49ed-9385-22260d956925",
   "metadata": {},
   "outputs": [
    {
     "name": "stdout",
     "output_type": "stream",
     "text": [
      "[0, 4, 16, 36, 64]\n"
     ]
    }
   ],
   "source": [
    "print(square)"
   ]
  },
  {
   "cell_type": "code",
   "execution_count": null,
   "id": "1073390f-3f58-4a3e-95a8-0af7bb2f08a8",
   "metadata": {},
   "outputs": [],
   "source": []
  }
 ],
 "metadata": {
  "kernelspec": {
   "display_name": "Python 3 (ipykernel)",
   "language": "python",
   "name": "python3"
  },
  "language_info": {
   "codemirror_mode": {
    "name": "ipython",
    "version": 3
   },
   "file_extension": ".py",
   "mimetype": "text/x-python",
   "name": "python",
   "nbconvert_exporter": "python",
   "pygments_lexer": "ipython3",
   "version": "3.12.5"
  }
 },
 "nbformat": 4,
 "nbformat_minor": 5
}
