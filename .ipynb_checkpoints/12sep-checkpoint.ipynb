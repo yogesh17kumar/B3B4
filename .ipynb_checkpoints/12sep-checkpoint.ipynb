{
 "cells": [
  {
   "cell_type": "code",
   "execution_count": 7,
   "id": "7acca5a9-af5e-42f6-b705-5e06617eddd2",
   "metadata": {},
   "outputs": [
    {
     "data": {
      "text/plain": [
       "['123@stu.upes.ac.in',\n",
       " '1234@stu.upes.ac.in',\n",
       " '345678@stu.upes.ac.in',\n",
       " '87879@stu.upes.ac.in']"
      ]
     },
     "execution_count": 7,
     "metadata": {},
     "output_type": "execute_result"
    }
   ],
   "source": [
    "#wap that generates list of email aaddress using list of sapids\n",
    "#generate email address using sapid\n",
    "#sapid\n",
    "#12431324134\n",
    "# email\n",
    "# 12431324134@stu.upes.ac.in\n",
    "# using\n",
    "# function for loop\n",
    "# map/filter and lambda \n",
    "\n",
    "sapids = [123,1234,345678,87879]\n",
    "def id2email(id):\n",
    "    return str(id) + \"@stu.upes.ac.in\"\n",
    "\n",
    "def sapids_to_emails(sapids):\n",
    "    emails =[]\n",
    "    for id in sapids:\n",
    "        email=id2email(id)\n",
    "        emails.append(email)\n",
    "\n",
    "    return emails\n",
    "\n",
    "list_of_emails = sapids_to_emails(sapids)\n",
    "list_of_emails"
   ]
  },
  {
   "cell_type": "code",
   "execution_count": null,
   "id": "2fb83462-7fe9-4bdc-a2c2-c6c688cb89eb",
   "metadata": {},
   "outputs": [],
   "source": []
  }
 ],
 "metadata": {
  "kernelspec": {
   "display_name": "Python 3 (ipykernel)",
   "language": "python",
   "name": "python3"
  },
  "language_info": {
   "codemirror_mode": {
    "name": "ipython",
    "version": 3
   },
   "file_extension": ".py",
   "mimetype": "text/x-python",
   "name": "python",
   "nbconvert_exporter": "python",
   "pygments_lexer": "ipython3",
   "version": "3.12.5"
  }
 },
 "nbformat": 4,
 "nbformat_minor": 5
}
