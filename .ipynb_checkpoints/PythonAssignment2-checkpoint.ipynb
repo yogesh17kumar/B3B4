{
 "cells": [
  {
   "cell_type": "markdown",
   "id": "3f7465c5-647c-407f-aeac-18c33b3b23ba",
   "metadata": {},
   "source": [
    "## Python Assignment2\n"
   ]
  },
  {
   "cell_type": "markdown",
   "id": "4bca8609-fcf4-404e-830b-5d614db877ac",
   "metadata": {},
   "source": [
    "### 1. Basic Function Implemention :"
   ]
  },
  {
   "cell_type": "code",
   "execution_count": 4,
   "id": "c1308864-f321-4fcd-980f-6e896bb1da31",
   "metadata": {},
   "outputs": [
    {
     "name": "stdout",
     "output_type": "stream",
     "text": [
      "Hello Alice\n",
      "Good Morning Bob\n"
     ]
    }
   ],
   "source": [
    "def greet(name, greeting=\"Hello\"):\n",
    "    return f\"{greeting} {name}\"\n",
    "\n",
    "print(greet(\"Alice\"))  \n",
    "print(greet(\"Bob\", \"Good Morning\")) \n"
   ]
  },
  {
   "cell_type": "markdown",
   "id": "bdd1b1a2-a365-4948-969a-9cdc31e1ae9e",
   "metadata": {},
   "source": [
    "### 2. Named Arguments : "
   ]
  },
  {
   "cell_type": "code",
   "execution_count": 3,
   "id": "afdeaf4e-a8c5-4d59-a5cd-6b967120267b",
   "metadata": {},
   "outputs": [
    {
     "name": "stdout",
     "output_type": "stream",
     "text": [
      "Name: John, Age: 18, City: Chicago\n",
      "Name: Emma, Age: 22, City: Los Angeles\n"
     ]
    }
   ],
   "source": [
    "def create_profile(name, city, age=18):\n",
    "    return f\"Name: {name}, Age: {age}, City: {city}\"\n",
    "    \n",
    "print(create_profile(name=\"John\", city=\"Chicago\"))  \n",
    "print(create_profile(name=\"Emma\", age=22, city=\"Los Angeles\")) \n"
   ]
  },
  {
   "cell_type": "markdown",
   "id": "5b12a64f-4368-4b5c-b0ba-fb0167b104c7",
   "metadata": {},
   "source": [
    "### 3. Using args and kwargs :"
   ]
  },
  {
   "cell_type": "code",
   "execution_count": 5,
   "id": "07969713-24ff-4b13-8920-2aa39604f9ac",
   "metadata": {},
   "outputs": [
    {
     "name": "stdout",
     "output_type": "stream",
     "text": [
      "6\n",
      "(3, {'x': 4, 'y': 5})\n"
     ]
    }
   ],
   "source": [
    "def sum_numbers(*args, **kwargs):\n",
    "    sum_args = sum(arg for arg in args if isinstance(arg, (int, float)))\n",
    "    return (sum_args, kwargs) if kwargs else sum_args\n",
    "\n",
    "\n",
    "print(sum_numbers(1, 2, 3))          \n",
    "print(sum_numbers(1, 2, x=4, y=5))  "
   ]
  },
  {
   "cell_type": "markdown",
   "id": "c8a3d5f8-4dd0-4f5a-b488-d89506a0a749",
   "metadata": {},
   "source": [
    "### 4. Lambdas and Map :"
   ]
  },
  {
   "cell_type": "code",
   "execution_count": 6,
   "id": "c23e666f-19d7-45ec-8d81-2d310a640b88",
   "metadata": {},
   "outputs": [
    {
     "name": "stdout",
     "output_type": "stream",
     "text": [
      "[1, 4, 9, 16]\n"
     ]
    }
   ],
   "source": [
    "def square_list(numbers):\n",
    "    return list(map(lambda x: x**2, numbers))\n",
    "\n",
    "print(square_list([1, 2, 3, 4]))"
   ]
  },
  {
   "cell_type": "markdown",
   "id": "4ee90ef8-71e8-43eb-bc2d-e0864079b121",
   "metadata": {},
   "source": [
    "### 5. Filter and Lambdas :"
   ]
  },
  {
   "cell_type": "code",
   "execution_count": 8,
   "id": "9cad8c46-6cae-450b-9aaa-106500a8bff9",
   "metadata": {},
   "outputs": [
    {
     "name": "stdout",
     "output_type": "stream",
     "text": [
      "[2, 4]\n"
     ]
    }
   ],
   "source": [
    "def filter_odd_numbers(numbers):\n",
    "    return list(filter(lambda x: x % 2 == 0, numbers))\n",
    "    \n",
    "print(filter_odd_numbers([1, 2, 3, 4, 5])) "
   ]
  },
  {
   "cell_type": "markdown",
   "id": "37640196-188b-4200-b316-269f5c7ec0f0",
   "metadata": {},
   "source": [
    "### 6. Basic List Comprehension :"
   ]
  },
  {
   "cell_type": "code",
   "execution_count": 9,
   "id": "6f7e9a03-8f4c-43d0-8977-53f050eae8fd",
   "metadata": {},
   "outputs": [
    {
     "name": "stdout",
     "output_type": "stream",
     "text": [
      "[0, 1, 4, 9, 16]\n"
     ]
    }
   ],
   "source": [
    "squares = [x**2 for x in range(5)]\n",
    "print(squares)"
   ]
  },
  {
   "cell_type": "markdown",
   "id": "1c1639c5-3cfd-4862-9595-e466affd1cf9",
   "metadata": {},
   "source": [
    "### 7. List Comprehension with Condition :"
   ]
  },
  {
   "cell_type": "code",
   "execution_count": 10,
   "id": "1755aa6d-adfb-4e62-b941-51f09a2addb8",
   "metadata": {},
   "outputs": [
    {
     "name": "stdout",
     "output_type": "stream",
     "text": [
      "[2, 4, 6, 8, 10, 12, 14, 16, 18, 20]\n"
     ]
    }
   ],
   "source": [
    "evens = [x for x in range(1, 21) if x % 2 == 0]\n",
    "print(evens)"
   ]
  },
  {
   "cell_type": "markdown",
   "id": "2545433e-4d74-4698-aa44-4524f0bf257f",
   "metadata": {},
   "source": [
    "### 8. Using os and time Modules :"
   ]
  },
  {
   "cell_type": "code",
   "execution_count": 15,
   "id": "032d8d17-0dc7-493c-bbdc-847bf8fdb97a",
   "metadata": {},
   "outputs": [
    {
     "name": "stdout",
     "output_type": "stream",
     "text": [
      "Created 'test_folder'\n",
      "Pausing for 3 seconds...\n",
      "Deleted 'test_folder'\n"
     ]
    }
   ],
   "source": [
    "import os\n",
    "import time\n",
    "\n",
    "def file_operations():\n",
    "    os.makedirs(\"test_folder\", exist_ok=True)\n",
    "    print(\"Created 'test_folder'\")\n",
    "    print(\"Pausing for 3 seconds...\")\n",
    "    time.sleep(3)\n",
    "    os.rmdir(\"test_folder\")\n",
    "    print(\"Deleted 'test_folder'\")\n",
    "\n",
    "file_operations()"
   ]
  },
  {
   "cell_type": "markdown",
   "id": "1677d845-3835-443a-acea-edc875ca0383",
   "metadata": {},
   "source": [
    "### 9. Importing Specific Functions :"
   ]
  },
  {
   "cell_type": "code",
   "execution_count": 12,
   "id": "4f7e0868-1a29-4285-a874-292ba8ee1896",
   "metadata": {},
   "outputs": [
    {
     "name": "stdout",
     "output_type": "stream",
     "text": [
      "Paused execution...\n"
     ]
    }
   ],
   "source": [
    "from time import sleep as pause\n",
    "\n",
    "pause(2)\n",
    "print(\"Paused execution...\") "
   ]
  },
  {
   "cell_type": "markdown",
   "id": "895eaa33-a98e-4216-a40e-06010569b3a1",
   "metadata": {},
   "source": [
    "### 10. Recursive function with args and kwargs(Flattening a List) :"
   ]
  },
  {
   "cell_type": "code",
   "execution_count": 13,
   "id": "dc063109-03b3-4578-bbe1-8db727b7b0aa",
   "metadata": {},
   "outputs": [
    {
     "name": "stdout",
     "output_type": "stream",
     "text": [
      "[1, 2, 3, 4, 5, 6]\n",
      "[1, 2, 3, 4, 5]\n"
     ]
    }
   ],
   "source": [
    "def flatten_list(nested_list):\n",
    "    flat_list = []\n",
    "    for item in nested_list:\n",
    "        if isinstance(item, list):\n",
    "            flat_list.extend(flatten_list(item))\n",
    "        else:\n",
    "            flat_list.append(item)\n",
    "    return flat_list\n",
    "\n",
    "print(flatten_list([1, [2, 3], [[4, 5], 6]]))\n",
    "print(flatten_list([[1, 2], [3, [4, [5]]]]))  "
   ]
  },
  {
   "cell_type": "code",
   "execution_count": null,
   "id": "00a63ef7-86f3-43c5-ab7f-21c859a18711",
   "metadata": {},
   "outputs": [],
   "source": []
  }
 ],
 "metadata": {
  "kernelspec": {
   "display_name": "Python 3 (ipykernel)",
   "language": "python",
   "name": "python3"
  },
  "language_info": {
   "codemirror_mode": {
    "name": "ipython",
    "version": 3
   },
   "file_extension": ".py",
   "mimetype": "text/x-python",
   "name": "python",
   "nbconvert_exporter": "python",
   "pygments_lexer": "ipython3",
   "version": "3.12.5"
  }
 },
 "nbformat": 4,
 "nbformat_minor": 5
}
