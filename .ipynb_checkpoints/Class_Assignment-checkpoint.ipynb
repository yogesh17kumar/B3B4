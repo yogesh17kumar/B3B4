{
 "cells": [
  {
   "cell_type": "markdown",
   "id": "25b284f8-1bf0-4b70-a83b-11ebf7b43b95",
   "metadata": {},
   "source": [
    "### Question 1 : WAF that takes an input from the users and return data entered by the user as a list. Your function should ensures that the values given by user are integer. You can ask user how many values are entered."
   ]
  },
  {
   "cell_type": "code",
   "execution_count": 1,
   "id": "c09ca632-69b5-4b5f-a489-41d242525e5c",
   "metadata": {},
   "outputs": [
    {
     "name": "stdin",
     "output_type": "stream",
     "text": [
      "How many integer values would you like to enter?  4\n",
      "Enter integer value 1:  5\n",
      "Enter integer value 2:  6\n",
      "Enter integer value 3:  web\n"
     ]
    },
    {
     "name": "stdout",
     "output_type": "stream",
     "text": [
      "Invalid input. Please enter an integer.\n"
     ]
    },
    {
     "name": "stdin",
     "output_type": "stream",
     "text": [
      "Enter integer value 3:  9.7\n"
     ]
    },
    {
     "name": "stdout",
     "output_type": "stream",
     "text": [
      "Invalid input. Please enter an integer.\n"
     ]
    },
    {
     "name": "stdin",
     "output_type": "stream",
     "text": [
      "Enter integer value 3:  9\n",
      "Enter integer value 4:  8\n"
     ]
    },
    {
     "name": "stdout",
     "output_type": "stream",
     "text": [
      "You entered: [5, 6, 9, 8]\n"
     ]
    }
   ],
   "source": [
    "def get_integer_list():\n",
    "    \"\"\"\n",
    "    Prompts the user to input a number of integers, and returns these integers in a list.\n",
    "    Ensures that the user input is valid.\n",
    "    \"\"\"\n",
    "    while True:\n",
    "        try:\n",
    "            # Ask how many integer values the user wants to enter\n",
    "            num_values = int(input(\"How many integer values would you like to enter? \"))\n",
    "            if num_values <= 0:\n",
    "                print(\"Please enter a positive integer.\")\n",
    "            else:\n",
    "                break\n",
    "        except ValueError:\n",
    "            print(\"Invalid input. Please enter an integer.\")\n",
    "\n",
    "    integer_list = []\n",
    "\n",
    "    # Collect the specified number of integers\n",
    "    while len(integer_list) < num_values:\n",
    "        try:\n",
    "            value = int(input(f\"Enter integer value {len(integer_list) + 1}: \"))\n",
    "            integer_list.append(value)\n",
    "        except ValueError:\n",
    "            print(\"Invalid input. Please enter an integer.\")\n",
    "\n",
    "    return integer_list\n",
    "\n",
    "if __name__ == \"__main__\":\n",
    "    values = get_integer_list()\n",
    "    print(\"You entered:\", values)"
   ]
  },
  {
   "cell_type": "markdown",
   "id": "b44423da-d8ef-4cac-a9e0-71f88eafb506",
   "metadata": {},
   "source": [
    "### Question 2 : WAF that takes one input arguments. The input arguments should be a list of numbers. This function computes some Avg, Max, Min, and cumulative sum and return those values. Now use both of these function first to take input from user and second to compute Avg, Max, Min and cumulative sum."
   ]
  },
  {
   "cell_type": "code",
   "execution_count": 2,
   "id": "7b62c41e-48b2-45d7-a074-45dfe17a3105",
   "metadata": {},
   "outputs": [
    {
     "name": "stdin",
     "output_type": "stream",
     "text": [
      "Enter a list of numbers separated by spaces:  30 40 60 90\n"
     ]
    },
    {
     "name": "stdout",
     "output_type": "stream",
     "text": [
      "Average: 55.00\n",
      "Minimum: 30\n",
      "Maximum: 90\n",
      "Cumulative Sum: 220\n"
     ]
    }
   ],
   "source": [
    "def get_numbers():\n",
    "    \"\"\"\n",
    "    Asks the user for a list of numbers and returns the input as a list.\n",
    "    \"\"\"\n",
    "    numbers = input(\"Enter a list of numbers separated by spaces: \")\n",
    "    return [int(num) for num in numbers.split()]\n",
    "\n",
    "def compute_stats(numbers):\n",
    "    \"\"\"\n",
    "    Computes and returns the average, minimum, maximum, and cumulative sum of a list of numbers.\n",
    "    \"\"\"\n",
    "    avg = sum(numbers) / len(numbers)\n",
    "    min_val = min(numbers)\n",
    "    max_val = max(numbers)\n",
    "    cum_sum = sum(numbers)\n",
    "    return avg, min_val, max_val, cum_sum\n",
    "\n",
    "# Get the user input\n",
    "numbers = get_numbers()\n",
    "\n",
    "# Compute the stats\n",
    "avg, min_val, max_val, cum_sum = compute_stats(numbers)\n",
    "\n",
    "# Print the results\n",
    "print(f\"Average: {avg:.2f}\")\n",
    "print(f\"Minimum: {min_val}\")\n",
    "print(f\"Maximum: {max_val}\")\n",
    "print(f\"Cumulative Sum: {cum_sum}\")"
   ]
  },
  {
   "cell_type": "code",
   "execution_count": null,
   "id": "5987a383-78a3-45ed-9fc6-43592471d541",
   "metadata": {},
   "outputs": [],
   "source": []
  }
 ],
 "metadata": {
  "kernelspec": {
   "display_name": "Python 3 (ipykernel)",
   "language": "python",
   "name": "python3"
  },
  "language_info": {
   "codemirror_mode": {
    "name": "ipython",
    "version": 3
   },
   "file_extension": ".py",
   "mimetype": "text/x-python",
   "name": "python",
   "nbconvert_exporter": "python",
   "pygments_lexer": "ipython3",
   "version": "3.12.5"
  }
 },
 "nbformat": 4,
 "nbformat_minor": 5
}
