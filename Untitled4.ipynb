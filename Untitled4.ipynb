{
 "cells": [
  {
   "cell_type": "markdown",
   "id": "d334d16e-2f40-45a0-91c2-799a68145b6d",
   "metadata": {},
   "source": [
    "### Write a function that takes dir address from user and organise file on that Folder in the following category"
   ]
  },
  {
   "cell_type": "code",
   "execution_count": null,
   "id": "421e2e5f-013f-4741-a8f6-a32c919073cb",
   "metadata": {},
   "outputs": [],
   "source": [
    "import os\n",
    "address = input(\"Enter location\")\n",
    "os.chdir(address)\n",
    "os.mkdir(\"Images\")\n",
    "os.mkdir(\"Videos\")\n",
    "os.mkdir(\"Audios\")\n",
    "os.mkdir(\"Docs\")\n",
    "os.mkdir(\"Mics\")\n",
    "list_of = os.listdir()\n",
    "list_of"
   ]
  },
  {
   "cell_type": "code",
   "execution_count": null,
   "id": "e8cf767a-a311-4932-9620-a581338b0e4a",
   "metadata": {},
   "outputs": [],
   "source": [
    "for f in list_of_file:\n",
    "    ext = (f.split\n",
    "    "
   ]
  }
 ],
 "metadata": {
  "kernelspec": {
   "display_name": "Python 3 (ipykernel)",
   "language": "python",
   "name": "python3"
  },
  "language_info": {
   "codemirror_mode": {
    "name": "ipython",
    "version": 3
   },
   "file_extension": ".py",
   "mimetype": "text/x-python",
   "name": "python",
   "nbconvert_exporter": "python",
   "pygments_lexer": "ipython3",
   "version": "3.12.5"
  }
 },
 "nbformat": 4,
 "nbformat_minor": 5
}
